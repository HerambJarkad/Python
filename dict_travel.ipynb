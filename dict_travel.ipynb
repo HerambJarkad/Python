{
 "cells": [
  {
   "cell_type": "code",
   "execution_count": 21,
   "metadata": {},
   "outputs": [
    {
     "name": "stdout",
     "output_type": "stream",
     "text": [
      "I've been to India 4 times.\n",
      "My favourite city was Pune.\n",
      "[{'country': 'France', 'visits': 12, 'cities': ['Paris', 'Lille', 'Dijon']}, {'country': 'Germany', 'visits': 5, 'cities': ['Berlin', 'Hamburg', 'Stuttgart']}, {'country': 'India', 'visits': 4, 'cities': ['Pune', 'Mumbai']}]\n"
     ]
    }
   ],
   "source": [
    "country = input() # Add country name\n",
    "visits = int(input()) # Number of visits\n",
    "list_of_cities = eval(input()) # create list from formatted string\n",
    "\n",
    "travel_log = [\n",
    "  {\n",
    "    \"country\": \"France\",\n",
    "    \"visits\": 12,\n",
    "    \"cities\": [\"Paris\", \"Lille\", \"Dijon\"]\n",
    "  },\n",
    "  {\n",
    "    \"country\": \"Germany\",\n",
    "    \"visits\": 5,\n",
    "    \"cities\": [\"Berlin\", \"Hamburg\", \"Stuttgart\"]\n",
    "  },\n",
    "]\n",
    "# Do NOT change the code above 👆\n",
    "\n",
    "# TODO: Write the function that will allow new countries\n",
    "# to be added to the travel_log. \n",
    "def add_new_country(country,visits,list_of_cities):\n",
    "    list_city=[]\n",
    "    for i in range(list_of_cities):\n",
    "        list_city.append(input(\"Enter the city name:\"))\n",
    "    travel_log.append({\n",
    "      \"country\":country,\n",
    "      \"visits\":visits,\n",
    "      \"cities\":list_city[:]\n",
    "    })\n",
    "  \n",
    "\n",
    "# Do not change the code below 👇\n",
    "add_new_country(country, visits, list_of_cities)\n",
    "print(f\"I've been to {travel_log[2]['country']} {travel_log[2]['visits']} times.\")\n",
    "print(f\"My favourite city was {travel_log[2]['cities'][0]}.\")\n",
    "print(travel_log)"
   ]
  },
  {
   "cell_type": "code",
   "execution_count": 22,
   "metadata": {},
   "outputs": [
    {
     "name": "stdout",
     "output_type": "stream",
     "text": [
      "I've been to India 4 times.\n",
      "My favourite city was Pune.\n",
      "[{'country': 'France', 'visits': 12, 'cities': ['Paris', 'Lille', 'Dijon']}, {'country': 'Germany', 'visits': 5, 'cities': ['Berlin', 'Hamburg', 'Stuttgart']}, {'country': 'India', 'visits': 4, 'cities': ['Pune']}]\n"
     ]
    }
   ],
   "source": [
    "country = input() # Add country name\n",
    "visits = int(input()) # Number of visits\n",
    "list_of_cities = eval(input()) # create list from formatted string\n",
    "\n",
    "travel_log = [\n",
    "  {\n",
    "    \"country\": \"France\",\n",
    "    \"visits\": 12,\n",
    "    \"cities\": [\"Paris\", \"Lille\", \"Dijon\"]\n",
    "  },\n",
    "  {\n",
    "    \"country\": \"Germany\",\n",
    "    \"visits\": 5,\n",
    "    \"cities\": [\"Berlin\", \"Hamburg\", \"Stuttgart\"]\n",
    "  },\n",
    "]\n",
    "# Do NOT change the code above 👆\n",
    "\n",
    "# TODO: Write the function that will allow new countries\n",
    "# to be added to the travel_log. \n",
    "def add_new_country(country,visits,list_of_cities):\n",
    "    travel_log.append({\n",
    "      \"country\":country,\n",
    "      \"visits\":visits,\n",
    "      \"cities\":list_of_cities\n",
    "    })\n",
    "  \n",
    "\n",
    "# Do not change the code below 👇\n",
    "add_new_country(country, visits, list_of_cities)\n",
    "print(f\"I've been to {travel_log[2]['country']} {travel_log[2]['visits']} times.\")\n",
    "print(f\"My favourite city was {travel_log[2]['cities'][0]}.\")\n",
    "print(travel_log)"
   ]
  },
  {
   "cell_type": "code",
   "execution_count": 6,
   "metadata": {},
   "outputs": [
    {
     "name": "stdout",
     "output_type": "stream",
     "text": [
      "The highest bidder is James the highest bid is 600\n",
      "{'Heramb': 200, 'James': 600}\n"
     ]
    }
   ],
   "source": [
    "import os\n",
    "# print(\"Hello\")\n",
    "# os.system(\"cls\") # This function is used to clear screen.\n",
    "\n",
    "def find_highest_bidder(dict_demo):\n",
    "    highest_bid=0\n",
    "    highest_bidder_Name=\"\"\n",
    "    for bid in dict_demo:\n",
    "        bid_amt=dict_demo[bid]\n",
    "        highest_bidder_Name=bid\n",
    "        if bid_amt>highest_bid:\n",
    "            highest_bid=bid_amt\n",
    "    print(f\"The highest bidder is {highest_bidder_Name} the highest bid is {highest_bid}\")\n",
    "\n",
    "bid_dict={}\n",
    "bidder=True\n",
    "while bidder:\n",
    "    bidder_Name=input(\"Enter the bidder name:\")\n",
    "    bid_amt=int(input(\"Enter the bid amount: $\"))\n",
    "    bid_dict[bidder_Name]=bid_amt\n",
    "    # print(bid_dict)\n",
    "    newbidder=input(\"Type 'yes' to bid and 'no' to stop.\")\n",
    "    if newbidder==\"no\":\n",
    "        bidder=False\n",
    "        find_highest_bidder(bid_dict)\n",
    "    else:\n",
    "        os.system(\"cls\")\n",
    "\n",
    "# print(bid_dict)\n"
   ]
  },
  {
   "cell_type": "code",
   "execution_count": 5,
   "metadata": {},
   "outputs": [
    {
     "name": "stdout",
     "output_type": "stream",
     "text": [
      "The highest bidder is Elevin the highest bid is 900\n"
     ]
    }
   ],
   "source": [
    "\n",
    "def find_highest_bidder(dict_demo):\n",
    "    highest_bid=0\n",
    "    highest_bidder_Name=\"\"\n",
    "    for bid in dict_demo:\n",
    "        bid_amt=dict_demo[bid]\n",
    "        highest_bidder_Name=bid\n",
    "        if bid_amt>highest_bid:\n",
    "            highest_bid=bid_amt\n",
    "    print(f\"The highest bidder is {highest_bidder_Name} the highest bid is {highest_bid}\")\n",
    "\n",
    "list_dict={\"Heramb\":200,\"James\":500,\"Elevin\":900}\n",
    "find_highest_bidder(list_dict)"
   ]
  },
  {
   "cell_type": "code",
   "execution_count": null,
   "metadata": {},
   "outputs": [],
   "source": []
  }
 ],
 "metadata": {
  "kernelspec": {
   "display_name": "Python 3",
   "language": "python",
   "name": "python3"
  },
  "language_info": {
   "codemirror_mode": {
    "name": "ipython",
    "version": 3
   },
   "file_extension": ".py",
   "mimetype": "text/x-python",
   "name": "python",
   "nbconvert_exporter": "python",
   "pygments_lexer": "ipython3",
   "version": "3.10.6"
  }
 },
 "nbformat": 4,
 "nbformat_minor": 2
}
