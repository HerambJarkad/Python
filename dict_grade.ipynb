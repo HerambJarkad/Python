{
 "cells": [
  {
   "cell_type": "code",
   "execution_count": 2,
   "metadata": {},
   "outputs": [
    {
     "name": "stdout",
     "output_type": "stream",
     "text": [
      "{'Harry': 'Exceeds Expectations', 'Ron': 'Exceeds Expectations', 'Hermione': 'Outstanding', 'Draco': 'Exceeds Expectations', 'Neville': 'Exceeds Expectations'}\n"
     ]
    }
   ],
   "source": [
    "student_scores = {\n",
    "  \"Harry\": 81,\n",
    "  \"Ron\": 78,\n",
    "  \"Hermione\": 99, \n",
    "  \"Draco\": 74,\n",
    "  \"Neville\": 62,\n",
    "}\n",
    "# 🚨 Don't change the code above 👆\n",
    "# TODO-1: Create an empty dictionary called student_grades.\n",
    "student_grade={}\n",
    "\n",
    "# TODO-2: Write your code below to add the grades to student_grades.👇\n",
    "for i in student_scores:\n",
    "  if student_scores[i]>90:\n",
    "    student_grade[i]=\"Outstanding\"\n",
    "    # student_scores[i]=\"Outstanding\"\n",
    "  elif student_scores[i]>80 :\n",
    "    student_grade[i]=\"Exceeds Expectations\"\n",
    "    # student_scores[i]=\"Exceeds Expectations\"\n",
    "  elif student_scores[i]>70 :\n",
    "    student_grade[i]=\"Acceptable\"\n",
    "    # student_scores[i]=\"Acceptable\"\n",
    "  else:\n",
    "    student_grade[i]=\"Fail\"\n",
    "    # student_scores[i]=\"Fail\"\n",
    "    \n",
    "\n",
    "# 🚨 Don't change the code below 👇\n",
    "print(student_grade)"
   ]
  },
  {
   "cell_type": "code",
   "execution_count": null,
   "metadata": {},
   "outputs": [],
   "source": []
  }
 ],
 "metadata": {
  "kernelspec": {
   "display_name": "Python 3",
   "language": "python",
   "name": "python3"
  },
  "language_info": {
   "codemirror_mode": {
    "name": "ipython",
    "version": 3
   },
   "file_extension": ".py",
   "mimetype": "text/x-python",
   "name": "python",
   "nbconvert_exporter": "python",
   "pygments_lexer": "ipython3",
   "version": "3.10.6"
  }
 },
 "nbformat": 4,
 "nbformat_minor": 2
}
